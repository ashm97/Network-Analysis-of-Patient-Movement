{
 "cells": [
  {
   "cell_type": "markdown",
   "metadata": {},
   "source": [
    "# Sparse State Lumping\n",
    "\n",
    "Second-order dynamics on a physical network can be described by first-order dynamics on a second-order state network.\n",
    "\n",
    "We can represent this second-order network by it's _state transition matrix_ $P_{ij}$ with the probabilities for the random walker to transition from state node $i$ to state node $j$.\n",
    "\n",
    "In this view, we may note that some rows have similar probability distributions. We can measure how much information we lose when merging two state nodes with the [Jensen-Shannon Distance](https://en.wikipedia.org/wiki/Jensen%E2%80%93Shannon_divergence).\n",
    "\n",
    "The idea behind sparse state networks is that we can lump state nodes (within each physical node) that constrain the network flow in a similar way without losing (much) information."
   ]
  },
  {
   "cell_type": "code",
   "execution_count": 47,
   "metadata": {},
   "outputs": [],
   "source": [
    "from state_lumping_network import StateNetwork\n",
    "import matplotlib.pyplot as plt\n",
    "import numpy as np\n",
    "from sklearn import cluster"
   ]
  },
  {
   "cell_type": "markdown",
   "metadata": {},
   "source": [
    "## Generate state network of second order"
   ]
  },
  {
   "cell_type": "code",
   "execution_count": 48,
   "metadata": {},
   "outputs": [
    {
     "name": "stdout",
     "output_type": "stream",
     "text": [
      "Read path data from file 'output/CPE_Network_Pathways.net'...\n",
      "Done, parsed 100/526 paths\n",
      " -> 0 return paths\n",
      "Generated state network: StateNetwork (72 physical nodes, 310 state nodes and 217 links)\n",
      "Writing state network to file 'output/CPE_order_2.net'...\n",
      "Done!\n",
      "Read state network from file 'output/CPE_order_2.net'...\n",
      " -> StateNetwork (72 physical nodes, 310 state nodes and 217 links)\n"
     ]
    }
   ],
   "source": [
    "pathNetwork = StateNetwork()\n",
    "pathNetwork.generateStateNetworkFromPaths(\"output/CPE_Network_Pathways.net\",\n",
    "                                          \"output/CPE_order_2.net\",\n",
    "                                          markovOrder=3, splitWeight=False,\n",
    "                                          seed=3)\n",
    "\n",
    "pathNetwork = StateNetwork()\n",
    "pathNetwork.readFromFile(\"output/CPE_order_2.net\")"
   ]
  },
  {
   "cell_type": "markdown",
   "metadata": {},
   "source": [
    "##  Feature matrix\n",
    "\n",
    "The feature matrix for a physical node is simply the rows of the state transition  matrix for the state nodes belonging to that physical node. To simplify, there is  a getFeatureMatrix method that removes all all-zero rows and columns in the feature matrix and provides a mapping back to the original state network. It takes the physical  node id as input parameter and returns a tuple (X, T), where X is the feature matrix  (np.array) of size (numNonDanglingStateNodes, numLinkedNodes) and T is a dictionary  transforming row index in the feature matrix to state node id.\n"
   ]
  },
  {
   "cell_type": "code",
   "execution_count": 49,
   "metadata": {},
   "outputs": [
    {
     "name": "stdout",
     "output_type": "stream",
     "text": [
      "Feature matrix for the central physical node: \n",
      "[[1. 0. 0. 0. 0. 0.]\n",
      " [0. 1. 0. 0. 0. 0.]\n",
      " [0. 0. 1. 0. 0. 0.]\n",
      " [0. 0. 0. 1. 0. 0.]\n",
      " [0. 0. 0. 0. 1. 0.]\n",
      " [0. 0. 0. 0. 0. 1.]]\n",
      " rowToStateId: {0: 24, 1: 97, 2: 108, 3: 126, 4: 158, 5: 215}\n"
     ]
    }
   ],
   "source": [
    "X, rowToStateId = pathNetwork.getFeatureMatrix(101)\n",
    "print(\"Feature matrix for the central physical node: \\n{}\\n rowToStateId: {}\".format(X, rowToStateId))"
   ]
  },
  {
   "cell_type": "markdown",
   "metadata": {},
   "source": [
    "##  Measure pairwise similarity\n",
    "\n",
    "Now we can compare rows pairwise and cluster the most similar rows together. The Jensen-Shannon distance is unfortunately not implemented in scikit-learn (though it exist in a pull request), so let's create it.\n"
   ]
  },
  {
   "cell_type": "code",
   "execution_count": 50,
   "metadata": {},
   "outputs": [],
   "source": [
    "import numpy as np\n",
    "from sklearn.metrics import pairwise_distances\n",
    "\n",
    "def plogp(x):\n",
    "    x = np.asarray(x)\n",
    "    return x * np.log2(x, where = x>0)\n",
    "\n",
    "def entropy(x):\n",
    "    return -np.sum(plogp(x))\n",
    "\n",
    "def jensen_shannon_distance(x1, x2):\n",
    "    x1 = np.asarray(x1)\n",
    "    x2 = np.asarray(x2)\n",
    "    mix = (x1 + x2) / 2\n",
    "    return np.sqrt(entropy(mix) - (entropy(x1) + entropy(x2)) / 2)\n",
    "\n",
    "def jensen_shannon_distances(X):\n",
    "    return pairwise_distances(X, metric=jensen_shannon_distance)\n"
   ]
  },
  {
   "cell_type": "markdown",
   "metadata": {},
   "source": [
    "##  Lump entire network\n",
    "\n",
    "Now we can use general scikit-learn clustering algorithm that takes a custom pairwise distance function as a metric, like Agglomerative Clustering. We can also use for example cosine instead with similar results. \n",
    "\n",
    "Now we are ready to run this clustering code on the entire network. For convenience, StateNetwork provides a method clusterStateNodes that takes an argument clusterFeatureMatrix where you can send in a custom clustering function. This function gets a feature matrix as input argument and expects an array of cluster labels back."
   ]
  },
  {
   "cell_type": "code",
   "execution_count": 51,
   "metadata": {},
   "outputs": [
    {
     "name": "stdout",
     "output_type": "stream",
     "text": [
      "Cluster state nodes...\n",
      "Generate lumped state network from clustering...\n",
      " -> 152 state nodes and 210 links in lumped network.\n"
     ]
    }
   ],
   "source": [
    "def getFeatureClusterFunction(clusterRate=0.5):\n",
    "    def calcClusters(X):\n",
    "        numStates, numFeatures = X.shape\n",
    "        if numStates < 2 or numFeatures < 2:\n",
    "            # Don't cluster if too small\n",
    "            return list(range(numStates))\n",
    "\n",
    "        # Can be an adaptive number of clusters based on entropy reduction\n",
    "        n_clusters = max(1, int(clusterRate * numStates))\n",
    "        model = cluster.AgglomerativeClustering(\n",
    "            linkage=\"complete\",\n",
    "            affinity=jensen_shannon_distances,\n",
    "#             affinity=\"cosine\",\n",
    "            n_clusters=n_clusters\n",
    "        )\n",
    "\n",
    "        labels = model.fit_predict(X)\n",
    "        return labels\n",
    "    return calcClusters\n",
    "\n",
    "pathNetwork.clusterStateNodes(clusterFeatureMatrix=getFeatureClusterFunction())\n",
    "\n"
   ]
  },
  {
   "cell_type": "markdown",
   "metadata": {},
   "source": [
    "Did we lose any information?\n",
    "\n",
    "The state network has two methods calcEntropyRate() and calcLumpedEntropyRate() to calculate the average number of bits required to encode the random walk on each physical node.\n"
   ]
  },
  {
   "cell_type": "code",
   "execution_count": 52,
   "metadata": {},
   "outputs": [
    {
     "name": "stdout",
     "output_type": "stream",
     "text": [
      "Entropy rate before: 0.021811410560382882, after: 1.2507877974806594\n",
      "Writing lumped state network to file 'output/CPE_Network_order_3_lumped.net'...\n"
     ]
    }
   ],
   "source": [
    "\n",
    "h1 = pathNetwork.calcEntropyRate()\n",
    "h2 = pathNetwork.calcLumpedEntropyRate()\n",
    "print(\"Entropy rate before: {}, after: {}\".format(h1, h2))\n",
    "\n",
    "from pathlib import Path\n",
    "pathNetwork.writeLumpedStateNetwork(\"output/CPE_Network_order_3_lumped.net\")\n",
    "#print(Path('output/CPE_Network_lumped.net').read_text())\n"
   ]
  },
  {
   "cell_type": "markdown",
   "metadata": {},
   "source": [
    "## A Qeustion of Sparsity\n",
    "\n",
    "A key question for the generation of sparse state networks is how sparse. If we lump all state nodes with each physical node, we lose all higher-order information and may underfit. On the other hand, keeping all second-order state nodes may overfit.\n",
    "\n",
    "Here we will generate multiple lumped state networks with different amount of state nodes. A simple way is to parameterise this with a cluster rate $r$ going from 0.1 to 1, where `n_clusters = max(1, int(r * numStateNodes)`. For convenience, you can just send in the argument `clusterRate` to `clusterStateNodes` to achieve this, instead of the cluster function in the previous tutorial."
   ]
  },
  {
   "cell_type": "code",
   "execution_count": 53,
   "metadata": {},
   "outputs": [
    {
     "name": "stdout",
     "output_type": "stream",
     "text": [
      "Read path data from file 'output/CPE_Network_Pathways.net'...\n",
      "Done, parsed 100/526 paths\n",
      " -> 0 return paths\n",
      "Generated training state network: StateNetwork (66 physical nodes, 235 state nodes and 162 links)\n",
      "Writing state network to file 'output/CPE_states_training_order_3.net'...\n",
      "Generated validation state network: StateNetwork (47 physical nodes, 76 state nodes and 55 links)\n",
      "Writing state network to file 'output/CPE_states_validation_order_3.net'...\n",
      "Done!\n",
      "Read state network from file 'output/CPE_states_training_order_3.net'...\n",
      " -> StateNetwork (66 physical nodes, 235 state nodes and 162 links)\n",
      "Read state network from file 'output/CPE_states_validation_order_3.net'...\n",
      " -> StateNetwork (47 physical nodes, 76 state nodes and 55 links)\n"
     ]
    }
   ],
   "source": [
    "pathNetwork = StateNetwork()\n",
    "pathNetwork.generateStateNetworkFromPaths(\"output/CPE_Network_Pathways.net\",\n",
    "                                          \"output/CPE_states_training_order_3.net\",\n",
    "                                          outputValidationFilename=\"output/CPE_states_validation_order_3.net\",\n",
    "                                          markovOrder=3, splitWeight=True, validationProb=0.3,\n",
    "                                          seed=3)\n",
    "\n",
    "trainingNet = StateNetwork()\n",
    "trainingNet.readFromFile(\"output/CPE_states_training_order_3.net\")\n",
    "validationNet = StateNetwork()\n",
    "validationNet.readFromFile(\"output/CPE_states_validation_order_3.net\")"
   ]
  },
  {
   "cell_type": "code",
   "execution_count": 54,
   "metadata": {},
   "outputs": [
    {
     "name": "stdout",
     "output_type": "stream",
     "text": [
      "\n",
      "Original average entropy rate: 0.029171088970328028\n",
      "Original number of state nodes: 235\n"
     ]
    }
   ],
   "source": [
    "h0 = trainingNet.calcEntropyRate()\n",
    "print(\"\\nOriginal average entropy rate:\", h0)\n",
    "print(\"Original number of state nodes:\", trainingNet.numStateNodes())"
   ]
  },
  {
   "cell_type": "code",
   "execution_count": 55,
   "metadata": {
    "scrolled": true
   },
   "outputs": [
    {
     "name": "stdout",
     "output_type": "stream",
     "text": [
      "Cluster state nodes...\n",
      "Generate lumped state network from clustering...\n",
      " -> 98 state nodes and 150 links in lumped network.\n",
      "Writing lumped state network to file 'output/states_training_lumped_0.net'...\n",
      "Cluster state nodes from clustering in network StateNetwork (66 physical nodes, 235 state nodes and 162 links)...\n",
      "Generate lumped state network from clustering...\n",
      " -> 70 state nodes and 55 links in lumped network.\n",
      "Writing lumped state network to file 'output/states_validation_lumped_0.net'...\n",
      "Cluster state nodes...\n",
      "Generate lumped state network from clustering...\n",
      " -> 98 state nodes and 150 links in lumped network.\n",
      "Writing lumped state network to file 'output/states_training_lumped_1.net'...\n",
      "Cluster state nodes from clustering in network StateNetwork (66 physical nodes, 235 state nodes and 162 links)...\n",
      "Generate lumped state network from clustering...\n",
      " -> 70 state nodes and 55 links in lumped network.\n",
      "Writing lumped state network to file 'output/states_validation_lumped_1.net'...\n",
      "Cluster state nodes...\n",
      "Generate lumped state network from clustering...\n",
      " -> 99 state nodes and 151 links in lumped network.\n",
      "Writing lumped state network to file 'output/states_training_lumped_2.net'...\n",
      "Cluster state nodes from clustering in network StateNetwork (66 physical nodes, 235 state nodes and 162 links)...\n",
      "Generate lumped state network from clustering...\n",
      " -> 70 state nodes and 55 links in lumped network.\n",
      "Writing lumped state network to file 'output/states_validation_lumped_2.net'...\n",
      "Cluster state nodes...\n",
      "Generate lumped state network from clustering...\n",
      " -> 101 state nodes and 152 links in lumped network.\n",
      "Writing lumped state network to file 'output/states_training_lumped_3.net'...\n",
      "Cluster state nodes from clustering in network StateNetwork (66 physical nodes, 235 state nodes and 162 links)...\n",
      "Generate lumped state network from clustering...\n",
      " -> 70 state nodes and 55 links in lumped network.\n",
      "Writing lumped state network to file 'output/states_validation_lumped_3.net'...\n",
      "Cluster state nodes...\n",
      "Generate lumped state network from clustering...\n",
      " -> 104 state nodes and 152 links in lumped network.\n",
      "Writing lumped state network to file 'output/states_training_lumped_4.net'...\n",
      "Cluster state nodes from clustering in network StateNetwork (66 physical nodes, 235 state nodes and 162 links)...\n",
      "Generate lumped state network from clustering...\n",
      " -> 70 state nodes and 55 links in lumped network.\n",
      "Writing lumped state network to file 'output/states_validation_lumped_4.net'...\n",
      "Cluster state nodes...\n",
      "Generate lumped state network from clustering...\n",
      " -> 109 state nodes and 153 links in lumped network.\n",
      "Writing lumped state network to file 'output/states_training_lumped_5.net'...\n",
      "Cluster state nodes from clustering in network StateNetwork (66 physical nodes, 235 state nodes and 162 links)...\n",
      "Generate lumped state network from clustering...\n",
      " -> 70 state nodes and 55 links in lumped network.\n",
      "Writing lumped state network to file 'output/states_validation_lumped_5.net'...\n",
      "Cluster state nodes...\n",
      "Generate lumped state network from clustering...\n",
      " -> 109 state nodes and 153 links in lumped network.\n",
      "Writing lumped state network to file 'output/states_training_lumped_6.net'...\n",
      "Cluster state nodes from clustering in network StateNetwork (66 physical nodes, 235 state nodes and 162 links)...\n",
      "Generate lumped state network from clustering...\n",
      " -> 70 state nodes and 55 links in lumped network.\n",
      "Writing lumped state network to file 'output/states_validation_lumped_6.net'...\n",
      "Cluster state nodes...\n",
      "Generate lumped state network from clustering...\n",
      " -> 117 state nodes and 157 links in lumped network.\n",
      "Writing lumped state network to file 'output/states_training_lumped_7.net'...\n",
      "Cluster state nodes from clustering in network StateNetwork (66 physical nodes, 235 state nodes and 162 links)...\n",
      "Generate lumped state network from clustering...\n",
      " -> 70 state nodes and 55 links in lumped network.\n",
      "Writing lumped state network to file 'output/states_validation_lumped_7.net'...\n",
      "Cluster state nodes...\n",
      "Generate lumped state network from clustering...\n",
      " -> 117 state nodes and 157 links in lumped network.\n",
      "Writing lumped state network to file 'output/states_training_lumped_8.net'...\n",
      "Cluster state nodes from clustering in network StateNetwork (66 physical nodes, 235 state nodes and 162 links)...\n",
      "Generate lumped state network from clustering...\n",
      " -> 70 state nodes and 55 links in lumped network.\n",
      "Writing lumped state network to file 'output/states_validation_lumped_8.net'...\n",
      "Cluster state nodes...\n",
      "Generate lumped state network from clustering...\n",
      " -> 127 state nodes and 157 links in lumped network.\n",
      "Writing lumped state network to file 'output/states_training_lumped_9.net'...\n",
      "Cluster state nodes from clustering in network StateNetwork (66 physical nodes, 235 state nodes and 162 links)...\n",
      "Generate lumped state network from clustering...\n",
      " -> 70 state nodes and 55 links in lumped network.\n",
      "Writing lumped state network to file 'output/states_validation_lumped_9.net'...\n",
      "Cluster state nodes...\n",
      "Generate lumped state network from clustering...\n",
      " -> 129 state nodes and 158 links in lumped network.\n",
      "Writing lumped state network to file 'output/states_training_lumped_10.net'...\n",
      "Cluster state nodes from clustering in network StateNetwork (66 physical nodes, 235 state nodes and 162 links)...\n",
      "Generate lumped state network from clustering...\n",
      " -> 70 state nodes and 55 links in lumped network.\n",
      "Writing lumped state network to file 'output/states_validation_lumped_10.net'...\n",
      "Cluster state nodes...\n",
      "Generate lumped state network from clustering...\n",
      " -> 135 state nodes and 159 links in lumped network.\n",
      "Writing lumped state network to file 'output/states_training_lumped_11.net'...\n",
      "Cluster state nodes from clustering in network StateNetwork (66 physical nodes, 235 state nodes and 162 links)...\n",
      "Generate lumped state network from clustering...\n",
      " -> 70 state nodes and 55 links in lumped network.\n",
      "Writing lumped state network to file 'output/states_validation_lumped_11.net'...\n",
      "Cluster state nodes...\n",
      "Generate lumped state network from clustering...\n",
      " -> 142 state nodes and 159 links in lumped network.\n",
      "Writing lumped state network to file 'output/states_training_lumped_12.net'...\n",
      "Cluster state nodes from clustering in network StateNetwork (66 physical nodes, 235 state nodes and 162 links)...\n",
      "Generate lumped state network from clustering...\n",
      " -> 70 state nodes and 55 links in lumped network.\n",
      "Writing lumped state network to file 'output/states_validation_lumped_12.net'...\n",
      "Cluster state nodes...\n",
      "Generate lumped state network from clustering...\n",
      " -> 146 state nodes and 159 links in lumped network.\n",
      "Writing lumped state network to file 'output/states_training_lumped_13.net'...\n",
      "Cluster state nodes from clustering in network StateNetwork (66 physical nodes, 235 state nodes and 162 links)...\n",
      "Generate lumped state network from clustering...\n",
      " -> 70 state nodes and 55 links in lumped network.\n",
      "Writing lumped state network to file 'output/states_validation_lumped_13.net'...\n",
      "Cluster state nodes...\n",
      "Generate lumped state network from clustering...\n",
      " -> 152 state nodes and 159 links in lumped network.\n",
      "Writing lumped state network to file 'output/states_training_lumped_14.net'...\n",
      "Cluster state nodes from clustering in network StateNetwork (66 physical nodes, 235 state nodes and 162 links)...\n",
      "Generate lumped state network from clustering...\n",
      " -> 70 state nodes and 55 links in lumped network.\n",
      "Writing lumped state network to file 'output/states_validation_lumped_14.net'...\n",
      "Cluster state nodes...\n",
      "Generate lumped state network from clustering...\n",
      " -> 157 state nodes and 159 links in lumped network.\n",
      "Writing lumped state network to file 'output/states_training_lumped_15.net'...\n",
      "Cluster state nodes from clustering in network StateNetwork (66 physical nodes, 235 state nodes and 162 links)...\n",
      "Generate lumped state network from clustering...\n",
      " -> 70 state nodes and 55 links in lumped network.\n",
      "Writing lumped state network to file 'output/states_validation_lumped_15.net'...\n",
      "Cluster state nodes...\n",
      "Generate lumped state network from clustering...\n",
      " -> 162 state nodes and 159 links in lumped network.\n",
      "Writing lumped state network to file 'output/states_training_lumped_16.net'...\n",
      "Cluster state nodes from clustering in network StateNetwork (66 physical nodes, 235 state nodes and 162 links)...\n",
      "Generate lumped state network from clustering...\n",
      " -> 70 state nodes and 55 links in lumped network.\n",
      "Writing lumped state network to file 'output/states_validation_lumped_16.net'...\n"
     ]
    },
    {
     "name": "stdout",
     "output_type": "stream",
     "text": [
      "Cluster state nodes...\n",
      "Generate lumped state network from clustering...\n",
      " -> 164 state nodes and 159 links in lumped network.\n",
      "Writing lumped state network to file 'output/states_training_lumped_17.net'...\n",
      "Cluster state nodes from clustering in network StateNetwork (66 physical nodes, 235 state nodes and 162 links)...\n",
      "Generate lumped state network from clustering...\n",
      " -> 70 state nodes and 55 links in lumped network.\n",
      "Writing lumped state network to file 'output/states_validation_lumped_17.net'...\n",
      "Cluster state nodes...\n",
      "Generate lumped state network from clustering...\n",
      " -> 165 state nodes and 159 links in lumped network.\n",
      "Writing lumped state network to file 'output/states_training_lumped_18.net'...\n",
      "Cluster state nodes from clustering in network StateNetwork (66 physical nodes, 235 state nodes and 162 links)...\n",
      "Generate lumped state network from clustering...\n",
      " -> 70 state nodes and 55 links in lumped network.\n",
      "Writing lumped state network to file 'output/states_validation_lumped_18.net'...\n",
      "Cluster state nodes...\n",
      "Generate lumped state network from clustering...\n",
      " -> 200 state nodes and 162 links in lumped network.\n",
      "Writing lumped state network to file 'output/states_training_lumped_19.net'...\n",
      "Cluster state nodes from clustering in network StateNetwork (66 physical nodes, 235 state nodes and 162 links)...\n",
      "Generate lumped state network from clustering...\n",
      " -> 70 state nodes and 55 links in lumped network.\n",
      "Writing lumped state network to file 'output/states_validation_lumped_19.net'...\n"
     ]
    }
   ],
   "source": [
    "clusterRates = np.linspace(0.1, 1, 20)\n",
    "#clusterRates = [0.1, 0.3, 0.5, 0.7, 0.9, 0.95, 0.98, 0.99, 0.999, 1.0]\n",
    "trainNumStates = []\n",
    "trainEntropyRate = []\n",
    "valNumStates = []\n",
    "valEntropyRate = []\n",
    "\n",
    "for i, clusterRate in enumerate(clusterRates):\n",
    "    trainingNet.clusterStateNodes(clusterRate=clusterRate)\n",
    "    s = trainingNet.numLumpedStateNodes()\n",
    "    h = trainingNet.calcLumpedEntropyRate()\n",
    "    trainNumStates.append(s)\n",
    "    trainEntropyRate.append(h)\n",
    "    trainingNet.writeLumpedStateNetwork(\"output/states_training_lumped_{}.net\".format(i))\n",
    "    validationNet.clusterStateNodesFromNetwork(trainingNet)\n",
    "    validationNet.writeLumpedStateNetwork(\"output/states_validation_lumped_{}.net\".format(i))\n",
    "    s = trainingNet.numLumpedStateNodes()\n",
    "    h = trainingNet.calcLumpedEntropyRate()\n",
    "    valNumStates.append(s)\n",
    "    valEntropyRate.append(h)"
   ]
  },
  {
   "cell_type": "markdown",
   "metadata": {},
   "source": [
    "How much information do we lose as we reduce the number of state nodes?\n",
    "\n",
    "Note: Note that the original number of state nodes can be much larger than the maximum in the lumped state networks due to dangling nodes which are lumped implicitly."
   ]
  },
  {
   "cell_type": "code",
   "execution_count": 56,
   "metadata": {},
   "outputs": [
    {
     "data": {
      "image/png": "[encoded data removed]",
      "text/plain": [
       "<Figure size 432x288 with 1 Axes>"
      ]
     },
     "metadata": {
      "needs_background": "light"
     },
     "output_type": "display_data"
    }
   ],
   "source": [
    "plt.plot(trainNumStates, trainEntropyRate, marker='o')\n",
    "plt.plot(valNumStates, valEntropyRate, marker='x')\n",
    "plt.xlabel(\"number of lumped states\")\n",
    "plt.ylabel(\"entropy rate\")\n",
    "plt.axhline(y=h0, color='r', linestyle='-')\n",
    "#plt.axvline(x=trainingNet.numStateNodes(), color='r')\n",
    "plt.show()    "
   ]
  },
  {
   "cell_type": "markdown",
   "metadata": {},
   "source": [
    "Because compressing data is dual to finding regulartities in the data, minizming the modular description lenght of networks flows is dual to finding moudalr regualrities in the network flows."
   ]
  },
  {
   "cell_type": "markdown",
   "metadata": {},
   "source": [
    "### Validate with Infomap\n",
    "The goal here is to calculate the codelength for the validation network, given the different partitions found on the lumped training networks.\n",
    "\n",
    "**TODO:**\n",
    "\n",
    "- Run Infomap on all lumped state networks and write a `.clu` file for each and store codelength\n",
    "- Run Infomap on the validation network but with cluster data from external file for all `.clu` files generated from the lumped networks and store the codelength\n",
    "- Plot the training and validation codelengths against the number of state nodes and check if there is an optimum that balances underfit and overfit\n",
    "\n",
    "Note: Use the `--two-level` flag to Infomap here to find an optimum two-level solution that will be stored in the `.clu` files. These can be read into infomap with the `--cluster-data [clusters.clu]` option. Add `--no-infomap` to not continue the clustering algorithm after the initial clusters has been incorporated. Then the codelength after the run will be the codelength for the specified input clustering."
   ]
  },
  {
   "cell_type": "code",
   "execution_count": 57,
   "metadata": {},
   "outputs": [
    {
     "data": {
      "image/png": "[encoded data removed]",
      "text/plain": [
       "<Figure size 432x288 with 1 Axes>"
      ]
     },
     "metadata": {
      "needs_background": "light"
     },
     "output_type": "display_data"
    }
   ],
   "source": [
    "import infomap\n",
    "trainingCodelengths = []\n",
    "validationCodelengths = []\n",
    "\n",
    "def calcCodelength(inputFilename, cluInputFile, flags=\"--directed --two-level\"):\n",
    "    im = infomap.Infomap(\"{} --no-infomap --input {} --cluster-data {}\".format(flags, inputFilename, cluInputFile))\n",
    "    im.run()\n",
    "    return im.codelength\n",
    "\n",
    "def partition(inputFilename, cluOutputFile=None, flags=\"--directed --two-level\"):\n",
    "    im = infomap.Infomap(flags)\n",
    "    im.readInputData(inputFilename)\n",
    "    im.run()\n",
    "    if cluOutputFile:\n",
    "        # Use second argument True to write the state-level clustering\n",
    "        im.writeClu(cluOutputFile, True) # Second parameter shows States\n",
    "    return im.codelength\n",
    "\n",
    "\n",
    "for i, clusterRate in enumerate(clusterRates):\n",
    "    trainingCodelength = partition(\"output/states_training_lumped_{}.net\".format(i),\n",
    "             \"output/states_training_lumped_{}.clu\".format(i))\n",
    "    validationCodelength = calcCodelength(\"output/states_validation_lumped_{}.net\".format(i),\n",
    "             \"output/states_training_lumped_{}.clu\".format(i))\n",
    "    trainingCodelengths.append(trainingCodelength)\n",
    "    validationCodelengths.append(validationCodelength)\n",
    "    #print(\"{}: training codelength: {} ({} nodes), validation codelength: {} ({} nodes)\".format(i, trainingCodelength, trainNumStates[i], validationCodelength, valNumStates[i]))\n",
    "\n",
    "\n",
    "plt.plot(trainNumStates, trainingCodelengths, marker='o')\n",
    "plt.plot(valNumStates, validationCodelengths, marker='x')\n",
    "plt.legend([\"training\", \"validation\"])\n",
    "plt.xlabel(\"number of lumped states\")\n",
    "plt.ylabel(\"codelength\")\n",
    "#plt.ylim(ymin=4)\n",
    "plt.show()"
   ]
  },
  {
   "cell_type": "code",
   "execution_count": 44,
   "metadata": {},
   "outputs": [
    {
     "data": {
      "text/plain": [
       "[98, 101, 106, 114, 127, 135, 144, 157, 164, 200]"
      ]
     },
     "execution_count": 44,
     "metadata": {},
     "output_type": "execute_result"
    }
   ],
   "source": [
    "trainNumStates"
   ]
  },
  {
   "cell_type": "code",
   "execution_count": 45,
   "metadata": {},
   "outputs": [
    {
     "data": {
      "text/plain": [
       "array([0.1, 0.2, 0.3, 0.4, 0.5, 0.6, 0.7, 0.8, 0.9, 1. ])"
      ]
     },
     "execution_count": 45,
     "metadata": {},
     "output_type": "execute_result"
    }
   ],
   "source": [
    "clusterRates "
   ]
  },
  {
   "cell_type": "code",
   "execution_count": null,
   "metadata": {},
   "outputs": [],
   "source": []
  }
 ],
 "metadata": {
  "kernelspec": {
   "display_name": "Python 3",
   "language": "python",
   "name": "python3"
  },
  "language_info": {
   "codemirror_mode": {
    "name": "ipython",
    "version": 3
   },
   "file_extension": ".py",
   "mimetype": "text/x-python",
   "name": "python",
   "nbconvert_exporter": "python",
   "pygments_lexer": "ipython3",
   "version": "3.7.6"
  }
 },
 "nbformat": 4,
 "nbformat_minor": 4
}
